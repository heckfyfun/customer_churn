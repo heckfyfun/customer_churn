{
 "cells": [
  {
   "cell_type": "markdown",
   "metadata": {
    "toc": true
   },
   "source": [
    "<h1>Содержание<span class=\"tocSkip\"></span></h1>\n",
    "<div class=\"toc\"><ul class=\"toc-item\"><li><span><a href=\"#Подготовка-данных\" data-toc-modified-id=\"Подготовка-данных-1\"><span class=\"toc-item-num\">1&nbsp;&nbsp;</span>Подготовка данных</a></span></li><li><span><a href=\"#Исследование-задачи\" data-toc-modified-id=\"Исследование-задачи-2\"><span class=\"toc-item-num\">2&nbsp;&nbsp;</span>Исследование задачи</a></span></li><li><span><a href=\"#Борьба-с-дисбалансом\" data-toc-modified-id=\"Борьба-с-дисбалансом-3\"><span class=\"toc-item-num\">3&nbsp;&nbsp;</span>Борьба с дисбалансом</a></span><ul class=\"toc-item\"><li><span><a href=\"#Промежуточные-выводы\" data-toc-modified-id=\"Промежуточные-выводы-3.1\"><span class=\"toc-item-num\">3.1&nbsp;&nbsp;</span>Промежуточные выводы</a></span></li></ul></li><li><span><a href=\"#Тестирование-модели\" data-toc-modified-id=\"Тестирование-модели-4\"><span class=\"toc-item-num\">4&nbsp;&nbsp;</span>Тестирование модели</a></span><ul class=\"toc-item\"><li><span><a href=\"#Вывод:\" data-toc-modified-id=\"Вывод:-4.1\"><span class=\"toc-item-num\">4.1&nbsp;&nbsp;</span>Вывод"
   ]
  },
  {
   "cell_type": "markdown",
   "metadata": {},
   "source": [
    "# Отток клиентов"
   ]
  },
  {
   "cell_type": "markdown",
   "metadata": {},
   "source": [
    "Из «Бета-Банка» стали уходить клиенты. Каждый месяц. Немного, но заметно. Банковские маркетологи посчитали: сохранять текущих клиентов дешевле, чем привлекать новых.\n",
    "\n",
    "Нужно спрогнозировать, уйдёт клиент из банка в ближайшее время или нет. Вам предоставлены исторические данные о поведении клиентов и расторжении договоров с банком. \n",
    "\n",
    "Постройте модель с предельно большим значением *F1*-меры. \n",
    "\n",
    "Дополнительно измеряйте *AUC-ROC*, сравнивайте её значение с *F1*-мерой.\n",
    "\n",
    "Источник данных: [https://www.kaggle.com/barelydedicated/bank-customer-churn-modeling](https://www.kaggle.com/barelydedicated/bank-customer-churn-modeling)"
   ]
  },
  {
   "cell_type": "markdown",
   "metadata": {},
   "source": [
    "# Инструкция по выполнению проекта\n",
    "\n",
    "1. Загрузка и подготовка данных\n",
    "2. Исследование баланса классов, обучение модели без учёта дисбаланса.\n",
    "3. Улучшение качества модели, учитывая дисбаланс классов. \n",
    "4. Тестирование модели.\n"
   ]
  },
  {
   "cell_type": "markdown",
   "metadata": {},
   "source": [
    "# Описание данных.     \n",
    "\n",
    "***Признаки***     \n",
    "- `RowNumber` — индекс строки в данных     \n",
    "- `CustomerId` — уникальный идентификатор клиента     \n",
    "- `Surname` — фамилия     \n",
    "- `CreditScore` — кредитный рейтинг     \n",
    "- `Geography` — страна проживания     \n",
    "- `Gender` — пол     \n",
    "- `Age` — возраст     \n",
    "- `Tenure` — сколько лет человек является клиентом банка     \n",
    "- `Balance` — баланс на счёте     \n",
    "- `NumOfProducts` — количество продуктов банка, используемых клиентом     \n",
    "- `HasCrCard` — наличие кредитной карты     \n",
    "- `IsActiveMember` — активность клиента     \n",
    "- `EstimatedSalary` — предполагаемая зарплата     \n",
    "***Целевой признак***     \n",
    "- `Exited` — факт ухода клиента"
   ]
  },
  {
   "cell_type": "markdown",
   "metadata": {},
   "source": [
    "## Подготовка данных"
   ]
  },
  {
   "cell_type": "markdown",
   "metadata": {},
   "source": [
    "Импортируем необходимые библиотеки"
   ]
  },
  {
   "cell_type": "code",
   "execution_count": 1,
   "metadata": {},
   "outputs": [],
   "source": [
    "#импортируем библиотеки pandas и matplotlib\n",
    "import pandas as pd\n",
    "\n",
    "import matplotlib.pyplot as plt "
   ]
  },
  {
   "cell_type": "code",
   "execution_count": 2,
   "metadata": {},
   "outputs": [],
   "source": [
    "# из библиотеки sklearn импортируем необходимые инструменты\n",
    "from sklearn.ensemble import RandomForestClassifier\n",
    "from sklearn.model_selection import train_test_split\n",
    "from sklearn.preprocessing import OrdinalEncoder\n",
    "from sklearn.metrics import f1_score\n",
    "from sklearn.metrics import roc_auc_score\n",
    "from sklearn.utils import shuffle\n"
   ]
  },
  {
   "cell_type": "markdown",
   "metadata": {},
   "source": [
    "<div class=\"alert alert-block alert-success\">\n",
    "<b>Успех:</b> Импорты на месте\n",
    "</div>\n"
   ]
  },
  {
   "cell_type": "code",
   "execution_count": 3,
   "metadata": {},
   "outputs": [],
   "source": [
    "#откроем файл с данными\n",
    "try:\n",
    "    df = pd.read_csv('/datasets/Churn.csv')\n",
    "except:\n",
    "    df = pd.read_csv('/Users/moygospodin/Documents/Practicum/Projects/Iskandarov_customer_churn/datasets/Churn.csv')\n"
   ]
  },
  {
   "cell_type": "code",
   "execution_count": 4,
   "metadata": {},
   "outputs": [
    {
     "data": {
      "text/html": [
       "<div>\n",
       "<style scoped>\n",
       "    .dataframe tbody tr th:only-of-type {\n",
       "        vertical-align: middle;\n",
       "    }\n",
       "\n",
       "    .dataframe tbody tr th {\n",
       "        vertical-align: top;\n",
       "    }\n",
       "\n",
       "    .dataframe thead th {\n",
       "        text-align: right;\n",
       "    }\n",
       "</style>\n",
       "<table border=\"1\" class=\"dataframe\">\n",
       "  <thead>\n",
       "    <tr style=\"text-align: right;\">\n",
       "      <th></th>\n",
       "      <th>RowNumber</th>\n",
       "      <th>CustomerId</th>\n",
       "      <th>Surname</th>\n",
       "      <th>CreditScore</th>\n",
       "      <th>Geography</th>\n",
       "      <th>Gender</th>\n",
       "      <th>Age</th>\n",
       "      <th>Tenure</th>\n",
       "      <th>Balance</th>\n",
       "      <th>NumOfProducts</th>\n",
       "      <th>HasCrCard</th>\n",
       "      <th>IsActiveMember</th>\n",
       "      <th>EstimatedSalary</th>\n",
       "      <th>Exited</th>\n",
       "    </tr>\n",
       "  </thead>\n",
       "  <tbody>\n",
       "    <tr>\n",
       "      <th>0</th>\n",
       "      <td>1</td>\n",
       "      <td>15634602</td>\n",
       "      <td>Hargrave</td>\n",
       "      <td>619</td>\n",
       "      <td>France</td>\n",
       "      <td>Female</td>\n",
       "      <td>42</td>\n",
       "      <td>2.0</td>\n",
       "      <td>0.00</td>\n",
       "      <td>1</td>\n",
       "      <td>1</td>\n",
       "      <td>1</td>\n",
       "      <td>101348.88</td>\n",
       "      <td>1</td>\n",
       "    </tr>\n",
       "    <tr>\n",
       "      <th>1</th>\n",
       "      <td>2</td>\n",
       "      <td>15647311</td>\n",
       "      <td>Hill</td>\n",
       "      <td>608</td>\n",
       "      <td>Spain</td>\n",
       "      <td>Female</td>\n",
       "      <td>41</td>\n",
       "      <td>1.0</td>\n",
       "      <td>83807.86</td>\n",
       "      <td>1</td>\n",
       "      <td>0</td>\n",
       "      <td>1</td>\n",
       "      <td>112542.58</td>\n",
       "      <td>0</td>\n",
       "    </tr>\n",
       "    <tr>\n",
       "      <th>2</th>\n",
       "      <td>3</td>\n",
       "      <td>15619304</td>\n",
       "      <td>Onio</td>\n",
       "      <td>502</td>\n",
       "      <td>France</td>\n",
       "      <td>Female</td>\n",
       "      <td>42</td>\n",
       "      <td>8.0</td>\n",
       "      <td>159660.80</td>\n",
       "      <td>3</td>\n",
       "      <td>1</td>\n",
       "      <td>0</td>\n",
       "      <td>113931.57</td>\n",
       "      <td>1</td>\n",
       "    </tr>\n",
       "    <tr>\n",
       "      <th>3</th>\n",
       "      <td>4</td>\n",
       "      <td>15701354</td>\n",
       "      <td>Boni</td>\n",
       "      <td>699</td>\n",
       "      <td>France</td>\n",
       "      <td>Female</td>\n",
       "      <td>39</td>\n",
       "      <td>1.0</td>\n",
       "      <td>0.00</td>\n",
       "      <td>2</td>\n",
       "      <td>0</td>\n",
       "      <td>0</td>\n",
       "      <td>93826.63</td>\n",
       "      <td>0</td>\n",
       "    </tr>\n",
       "    <tr>\n",
       "      <th>4</th>\n",
       "      <td>5</td>\n",
       "      <td>15737888</td>\n",
       "      <td>Mitchell</td>\n",
       "      <td>850</td>\n",
       "      <td>Spain</td>\n",
       "      <td>Female</td>\n",
       "      <td>43</td>\n",
       "      <td>2.0</td>\n",
       "      <td>125510.82</td>\n",
       "      <td>1</td>\n",
       "      <td>1</td>\n",
       "      <td>1</td>\n",
       "      <td>79084.10</td>\n",
       "      <td>0</td>\n",
       "    </tr>\n",
       "  </tbody>\n",
       "</table>\n",
       "</div>"
      ],
      "text/plain": [
       "   RowNumber  CustomerId   Surname  CreditScore Geography  Gender  Age  \\\n",
       "0          1    15634602  Hargrave          619    France  Female   42   \n",
       "1          2    15647311      Hill          608     Spain  Female   41   \n",
       "2          3    15619304      Onio          502    France  Female   42   \n",
       "3          4    15701354      Boni          699    France  Female   39   \n",
       "4          5    15737888  Mitchell          850     Spain  Female   43   \n",
       "\n",
       "   Tenure    Balance  NumOfProducts  HasCrCard  IsActiveMember  \\\n",
       "0     2.0       0.00              1          1               1   \n",
       "1     1.0   83807.86              1          0               1   \n",
       "2     8.0  159660.80              3          1               0   \n",
       "3     1.0       0.00              2          0               0   \n",
       "4     2.0  125510.82              1          1               1   \n",
       "\n",
       "   EstimatedSalary  Exited  \n",
       "0        101348.88       1  \n",
       "1        112542.58       0  \n",
       "2        113931.57       1  \n",
       "3         93826.63       0  \n",
       "4         79084.10       0  "
      ]
     },
     "execution_count": 4,
     "metadata": {},
     "output_type": "execute_result"
    }
   ],
   "source": [
    "#посмотрим на часть данных для поверхностного изучения\n",
    "df.head(5)"
   ]
  },
  {
   "cell_type": "code",
   "execution_count": 5,
   "metadata": {},
   "outputs": [],
   "source": [
    "#удалим столбец `RowNumber`, так как он не несет смысловой нагрузки\n",
    "df = df.drop(['RowNumber', 'CustomerId'], axis=1)"
   ]
  },
  {
   "cell_type": "code",
   "execution_count": 6,
   "metadata": {},
   "outputs": [
    {
     "name": "stdout",
     "output_type": "stream",
     "text": [
      "<class 'pandas.core.frame.DataFrame'>\n",
      "RangeIndex: 10000 entries, 0 to 9999\n",
      "Data columns (total 12 columns):\n",
      " #   Column           Non-Null Count  Dtype  \n",
      "---  ------           --------------  -----  \n",
      " 0   Surname          10000 non-null  object \n",
      " 1   CreditScore      10000 non-null  int64  \n",
      " 2   Geography        10000 non-null  object \n",
      " 3   Gender           10000 non-null  object \n",
      " 4   Age              10000 non-null  int64  \n",
      " 5   Tenure           9091 non-null   float64\n",
      " 6   Balance          10000 non-null  float64\n",
      " 7   NumOfProducts    10000 non-null  int64  \n",
      " 8   HasCrCard        10000 non-null  int64  \n",
      " 9   IsActiveMember   10000 non-null  int64  \n",
      " 10  EstimatedSalary  10000 non-null  float64\n",
      " 11  Exited           10000 non-null  int64  \n",
      "dtypes: float64(3), int64(6), object(3)\n",
      "memory usage: 937.6+ KB\n"
     ]
    },
    {
     "data": {
      "text/plain": [
       "Surname              0\n",
       "CreditScore          0\n",
       "Geography            0\n",
       "Gender               0\n",
       "Age                  0\n",
       "Tenure             909\n",
       "Balance              0\n",
       "NumOfProducts        0\n",
       "HasCrCard            0\n",
       "IsActiveMember       0\n",
       "EstimatedSalary      0\n",
       "Exited               0\n",
       "dtype: int64"
      ]
     },
     "execution_count": 6,
     "metadata": {},
     "output_type": "execute_result"
    }
   ],
   "source": [
    "#изучим датасет на пропуски в данных\n",
    "df.info()\n",
    "df.isna().sum()"
   ]
  },
  {
   "cell_type": "code",
   "execution_count": 7,
   "metadata": {},
   "outputs": [
    {
     "data": {
      "text/plain": [
       "1.0     952\n",
       "2.0     950\n",
       "8.0     933\n",
       "3.0     928\n",
       "5.0     927\n",
       "7.0     925\n",
       "4.0     885\n",
       "9.0     882\n",
       "6.0     881\n",
       "10.0    446\n",
       "0.0     382\n",
       "Name: Tenure, dtype: int64"
      ]
     },
     "execution_count": 7,
     "metadata": {},
     "output_type": "execute_result"
    }
   ],
   "source": [
    "#посмотрим, какие значения имеются в столбце\n",
    "df['Tenure'].value_counts()"
   ]
  },
  {
   "cell_type": "markdown",
   "metadata": {},
   "source": [
    "В столбце `Tenure` содержится информация о том, сколько лет человек является клиентом в банке.    \n",
    "Очевидно, что внесение значений в виде медианы не подойдет.     \n",
    "Заполнить пропуски не удастся, поэтому строки с пропущенными значениями оптимально удалить, так как они могут повлиять на обучение модели."
   ]
  },
  {
   "cell_type": "code",
   "execution_count": 8,
   "metadata": {},
   "outputs": [],
   "source": [
    "df = df.dropna()"
   ]
  },
  {
   "cell_type": "markdown",
   "metadata": {},
   "source": [
    "Почти закончили с предобработкой.     \n",
    "С помощью порядкового кодирования переведем категориальные признаки в числовые, далее подготовим выборки для обучения, валидации и тестирования."
   ]
  },
  {
   "cell_type": "code",
   "execution_count": 9,
   "metadata": {},
   "outputs": [],
   "source": [
    "data = pd.DataFrame(OrdinalEncoder().fit_transform(df),\n",
    "                            columns=df.columns)"
   ]
  },
  {
   "cell_type": "code",
   "execution_count": 10,
   "metadata": {},
   "outputs": [],
   "source": [
    "features = data.drop(['Exited'], axis=1)\n",
    "target = data['Exited']"
   ]
  },
  {
   "cell_type": "code",
   "execution_count": 11,
   "metadata": {},
   "outputs": [],
   "source": [
    "#делим на выборки для обучения и валидации+тестирования\n",
    "features_train, features_valid, target_train, target_valid = train_test_split(\n",
    "    features, target, test_size=0.25, random_state=12345, stratify=target\n",
    ")"
   ]
  },
  {
   "cell_type": "code",
   "execution_count": 12,
   "metadata": {},
   "outputs": [],
   "source": [
    "#делим выборку на валидацию и тестирование\n",
    "features_valid, features_test, target_valid, target_test = train_test_split(\n",
    "    features_valid, target_valid, test_size=0.5, random_state=12345, stratify=target_valid\n",
    ")"
   ]
  },
  {
   "cell_type": "code",
   "execution_count": 13,
   "metadata": {
    "scrolled": false
   },
   "outputs": [
    {
     "data": {
      "text/plain": [
       "6818"
      ]
     },
     "metadata": {},
     "output_type": "display_data"
    },
    {
     "data": {
      "text/plain": [
       "1136"
      ]
     },
     "metadata": {},
     "output_type": "display_data"
    },
    {
     "data": {
      "text/plain": [
       "1137"
      ]
     },
     "metadata": {},
     "output_type": "display_data"
    }
   ],
   "source": [
    "#проверим, что разделение на выборки произошло, как мы планировали\n",
    "display(features_train.shape[0], features_valid.shape[0], features_test.shape[0])"
   ]
  },
  {
   "cell_type": "markdown",
   "metadata": {},
   "source": [
    "## Исследование задачи"
   ]
  },
  {
   "cell_type": "markdown",
   "metadata": {},
   "source": [
    "Для начала посмотрим насколько сбалансированны классы в датафрейме, чтобы понять с чем нам придется иметь дело.     \n",
    "\n",
    "После этого, напишем функции, которые с помощью цикла найдут лучшие гиперпараметры для нашей модели."
   ]
  },
  {
   "cell_type": "code",
   "execution_count": 14,
   "metadata": {},
   "outputs": [
    {
     "data": {
      "text/plain": [
       "0.0    7237\n",
       "1.0    1854\n",
       "Name: Exited, dtype: int64"
      ]
     },
     "execution_count": 14,
     "metadata": {},
     "output_type": "execute_result"
    }
   ],
   "source": [
    "#посмотрим на сбалансированность классов\n",
    "target.value_counts()"
   ]
  },
  {
   "cell_type": "markdown",
   "metadata": {},
   "source": [
    "Как можно заметить, у нас отрицательный класс 3.9 раз превосходит положительный.     \n",
    "На данном этапе мы ничего с этим делать не будем, посмотрим как модель справить с этими входными признаками."
   ]
  },
  {
   "cell_type": "code",
   "execution_count": 15,
   "metadata": {},
   "outputs": [],
   "source": [
    "#напишем функцию, которая найдет лучшие гиперпараметры для модели\n",
    "def best_model(features, target, ylim1, ylim2):\n",
    "    best_forest = None\n",
    "    best_forest_f1 = 0\n",
    "    best_auc_roc = 0\n",
    "    \n",
    "#создадим переменные для построения графиков для наглядности работы функции    \n",
    "    best_depth = 0\n",
    "    f1_depth_plot = []\n",
    "    depth_plot = []\n",
    "    auc_roc_depth_plot = []\n",
    "    f1_est_plot = []\n",
    "    est_plot = []\n",
    "    auc_roc_est_plot = []\n",
    "\n",
    "#через цикл найдем лучший показатель глубины при заданном количестве деревьев\n",
    "    for depth in range (1,200, 5):\n",
    "        model = RandomForestClassifier(random_state=12345, n_estimators=11, max_depth=depth).fit(\n",
    "            features, target\n",
    "        )\n",
    "        predictions_valid = model.predict(features_valid)\n",
    "        f1 = f1_score(target_valid, predictions_valid)\n",
    "        probabilities_valid = model.predict_proba(features_valid)\n",
    "        probabilities_one_valid = probabilities_valid[:, 1]\n",
    "        depth_plot.append(depth)\n",
    "        f1_depth_plot.append(f1)\n",
    "        auc_roc_depth_plot.append(roc_auc_score(target_valid, probabilities_one_valid))\n",
    "        if f1 > best_forest_f1:\n",
    "            best_depth = depth\n",
    "            best_forest_f1 = f1\n",
    "\n",
    "        \n",
    "    \n",
    "#обнулим метрику, по которой определяем лучшую модель    \n",
    "    best_forest_f1 = 0\n",
    "\n",
    "    \n",
    "#с помощью цикла найдем лучший показатель количества деревьев в модели при найденной в предыдущем цикле\n",
    "#глубине\n",
    "    for est in range (1,200, 5):\n",
    "        model = RandomForestClassifier(random_state=12345, n_estimators=est, max_depth=best_depth).fit(\n",
    "            features, target\n",
    "        )\n",
    "        predictions_valid = model.predict(features_valid)\n",
    "        f1 = f1_score(target_valid, predictions_valid)\n",
    "        probabilities_valid = model.predict_proba(features_valid)\n",
    "        probabilities_one_valid = probabilities_valid[:, 1]\n",
    "        f1_est_plot.append(f1)\n",
    "        est_plot.append(est)\n",
    "        auc_roc_est_plot.append(roc_auc_score(target_valid, probabilities_one_valid))\n",
    "        if f1 > best_forest_f1:\n",
    "            best_forest = model\n",
    "            best_forest_f1 = f1\n",
    "            best_auc_roc = roc_auc_score(target_valid, probabilities_one_valid)\n",
    "    \n",
    "    \n",
    "#Теперь нужно построить графики для визуалиции работы функции    \n",
    "    plt.plot(depth_plot, f1_depth_plot)\n",
    "    plt.title(\"Показатель F1-меры в зависимости от глубины\")\n",
    "    plt.grid()\n",
    "    plt.show()\n",
    "    \n",
    "    plt.plot(depth_plot, auc_roc_depth_plot)\n",
    "    plt.title(\"Показатель AUC-ROC в зависимости от глубины\")\n",
    "    plt.grid()\n",
    "    plt.show()\n",
    "    \n",
    "    \n",
    "    plt.plot(est_plot, f1_est_plot)\n",
    "    plt.title(\"Показатель F1-меры в зависимости от количества деревьев\")\n",
    "    plt.grid()\n",
    "    plt.ylim(ylim1)\n",
    "    plt.show()\n",
    "    \n",
    "    plt.plot(est_plot, auc_roc_est_plot)\n",
    "    plt.title(\"Показатель AUC-ROC в зависимости от количества деревьев\")\n",
    "    plt.ylim(ylim2)\n",
    "    plt.grid()    \n",
    "    plt.show()\n",
    "    \n",
    "    \n",
    "                \n",
    "    display(\"F1 - мера лучшей модели:\", best_forest_f1)\n",
    "    display(\"AUC_ROC лучшей модели:\", best_auc_roc)\n",
    "    display(\"Лучшая модель:\",best_forest)\n"
   ]
  },
  {
   "cell_type": "markdown",
   "metadata": {},
   "source": [
    "Исследуем выполнение задачи на имеющихся данных, применив написанную функцию `best_model`"
   ]
  },
  {
   "cell_type": "code",
   "execution_count": 16,
   "metadata": {},
   "outputs": [
    {
     "data": {
      "image/png": "[encoded data removed]",
      "text/plain": [
       "<Figure size 432x288 with 1 Axes>"
      ]
     },
     "metadata": {
      "needs_background": "light"
     },
     "output_type": "display_data"
    },
    {
     "data": {
      "image/png": "[encoded data removed]",
      "text/plain": [
       "<Figure size 432x288 with 1 Axes>"
      ]
     },
     "metadata": {
      "needs_background": "light"
     },
     "output_type": "display_data"
    },
    {
     "data": {
      "image/png": "[encoded data removed]",
      "text/plain": [
       "<Figure size 432x288 with 1 Axes>"
      ]
     },
     "metadata": {
      "needs_background": "light"
     },
     "output_type": "display_data"
    },
    {
     "data": {
      "image/png": "[encoded data removed]",
      "text/plain": [
       "<Figure size 432x288 with 1 Axes>"
      ]
     },
     "metadata": {
      "needs_background": "light"
     },
     "output_type": "display_data"
    },
    {
     "data": {
      "text/plain": [
       "'F1 - мера лучшей модели:'"
      ]
     },
     "metadata": {},
     "output_type": "display_data"
    },
    {
     "data": {
      "text/plain": [
       "0.5901639344262295"
      ]
     },
     "metadata": {},
     "output_type": "display_data"
    },
    {
     "data": {
      "text/plain": [
       "'AUC_ROC лучшей модели:'"
      ]
     },
     "metadata": {},
     "output_type": "display_data"
    },
    {
     "data": {
      "text/plain": [
       "0.8574510794934391"
      ]
     },
     "metadata": {},
     "output_type": "display_data"
    },
    {
     "data": {
      "text/plain": [
       "'Лучшая модель:'"
      ]
     },
     "metadata": {},
     "output_type": "display_data"
    },
    {
     "data": {
      "text/plain": [
       "RandomForestClassifier(max_depth=6, n_estimators=11, random_state=12345)"
      ]
     },
     "metadata": {},
     "output_type": "display_data"
    },
    {
     "name": "stdout",
     "output_type": "stream",
     "text": [
      "CPU times: user 25.6 s, sys: 83.4 ms, total: 25.7 s\n",
      "Wall time: 25.7 s\n"
     ]
    }
   ],
   "source": [
    "%%time\n",
    "best_model(features_train, target_train, (0.56,0.591), (0.85, 0.863))"
   ]
  },
  {
   "cell_type": "markdown",
   "metadata": {},
   "source": [
    "По выведенным графикам видно, как менялись метрики модели при переборе гиперпараметров.     \n",
    "Сначала определили наилучший показатель глубины, ориентируясь на F1-меру.    \n",
    "Далее с заданной глубиной производим поиск лучшего показателя количества деревьев, также ориентируясь на F1-меру.     \n",
    "\n",
    "Как результат имеем случайный лес со следующими гиперпараметрами:\n",
    "- Глубина: 6\n",
    "- Количество деревьев: 11     \n",
    "\n",
    "Данная модель показала следующие результаты на валидационной выборке:\n",
    "1. F1-мера: 59%\n",
    "2. AUC-ROC: 85.7%\n",
    "\n",
    "Как можно заметить по AUC-ROC - наша модель далеко ушла от модели, которая делает случайные прогнозы.     \n",
    "F1-мера также имеет неплохие показатели, но поскольку мы работаем с данными, которые имеют довольно серьезный дисбаланс - посмотрим как она изменится после сэмплирования признаков."
   ]
  },
  {
   "cell_type": "markdown",
   "metadata": {},
   "source": [
    "## Борьба с дисбалансом"
   ]
  },
  {
   "cell_type": "markdown",
   "metadata": {},
   "source": [
    "В предыдущем шаге мы уже смотрели на то, какой имеется дисбаланс. Продублируем:\n",
    "\n",
    "- 0.0  -  7237\n",
    "- 1.0  -  1854\n",
    "\n",
    "Имеем практически 4-х кратную разницу.     \n",
    "\n",
    "В этом шаге мы сделаем следующее:\n",
    "1. Посмотрим как поведет себя модель, когда осуществлен Upsampling\n",
    "2. Посмотрим на поведение модели, когда осуществлен Downsampling\n",
    "3. Выберем модель с наилучшими показателями F1-меры"
   ]
  },
  {
   "cell_type": "code",
   "execution_count": 17,
   "metadata": {},
   "outputs": [],
   "source": [
    "#напишем функцию для апсэмплинга данных\n",
    "def upsample(features, target, repeat):\n",
    "    features_zeros = features[target == 0]\n",
    "    features_ones = features[target == 1]\n",
    "    target_zeros = target[target == 0]\n",
    "    target_ones = target[target == 1]\n",
    "    \n",
    "    features_upsampled = pd.concat([features_zeros] + [features_ones] * repeat)\n",
    "    target_upsampled = pd.concat([target_zeros] + [target_ones] * repeat)\n",
    "    \n",
    "    features_upsampled, target_upsampled = shuffle(\n",
    "        features_upsampled, target_upsampled, random_state=12345\n",
    "    )\n",
    "    return features_upsampled, target_upsampled"
   ]
  },
  {
   "cell_type": "code",
   "execution_count": 18,
   "metadata": {},
   "outputs": [],
   "source": [
    "#применим функцию к обучающим выборкам\n",
    "features_upsampled, target_upsampled = upsample(features_train, target_train, 4)"
   ]
  },
  {
   "cell_type": "code",
   "execution_count": 19,
   "metadata": {},
   "outputs": [
    {
     "data": {
      "text/plain": [
       "1.0    5560\n",
       "0.0    5428\n",
       "Name: Exited, dtype: int64"
      ]
     },
     "execution_count": 19,
     "metadata": {},
     "output_type": "execute_result"
    }
   ],
   "source": [
    "#проверим получившийся результат\n",
    "target_upsampled.value_counts()"
   ]
  },
  {
   "cell_type": "code",
   "execution_count": 26,
   "metadata": {},
   "outputs": [
    {
     "data": {
      "image/png": "[encoded data removed]",
      "text/plain": [
       "<Figure size 432x288 with 1 Axes>"
      ]
     },
     "metadata": {
      "needs_background": "light"
     },
     "output_type": "display_data"
    },
    {
     "data": {
      "image/png": "[encoded data removed]",
      "text/plain": [
       "<Figure size 432x288 with 1 Axes>"
      ]
     },
     "metadata": {
      "needs_background": "light"
     },
     "output_type": "display_data"
    },
    {
     "data": {
      "image/png": "[encoded data removed]",
      "text/plain": [
       "<Figure size 432x288 with 1 Axes>"
      ]
     },
     "metadata": {
      "needs_background": "light"
     },
     "output_type": "display_data"
    },
    {
     "data": {
      "image/png": "[encoded data removed]",
      "text/plain": [
       "<Figure size 432x288 with 1 Axes>"
      ]
     },
     "metadata": {
      "needs_background": "light"
     },
     "output_type": "display_data"
    },
    {
     "data": {
      "text/plain": [
       "'F1 - мера лучшей модели:'"
      ]
     },
     "metadata": {},
     "output_type": "display_data"
    },
    {
     "data": {
      "text/plain": [
       "0.6325167037861916"
      ]
     },
     "metadata": {},
     "output_type": "display_data"
    },
    {
     "data": {
      "text/plain": [
       "'AUC_ROC лучшей модели:'"
      ]
     },
     "metadata": {},
     "output_type": "display_data"
    },
    {
     "data": {
      "text/plain": [
       "0.8574391592920354"
      ]
     },
     "metadata": {},
     "output_type": "display_data"
    },
    {
     "data": {
      "text/plain": [
       "'Лучшая модель:'"
      ]
     },
     "metadata": {},
     "output_type": "display_data"
    },
    {
     "data": {
      "text/plain": [
       "RandomForestClassifier(max_depth=16, n_estimators=101, random_state=12345)"
      ]
     },
     "metadata": {},
     "output_type": "display_data"
    },
    {
     "name": "stdout",
     "output_type": "stream",
     "text": [
      "CPU times: user 54.1 s, sys: 224 ms, total: 54.4 s\n",
      "Wall time: 54.4 s\n"
     ]
    }
   ],
   "source": [
    "%%time\n",
    "\n",
    "#применим функцию для поиска лучшей модели и изучим выходные данные.\n",
    "best_model(features_upsampled, target_upsampled, (0.561, 0.64), (0.845, 0.86) )"
   ]
  },
  {
   "cell_type": "markdown",
   "metadata": {},
   "source": [
    "Отлично, нам удалось улучшить F1-меру модели!\n",
    "\n",
    "В результате апсемплинга имеем случайный лес со следующими гиперпараметрами:\n",
    "- Глубина: 16\n",
    "- Количество деревьев: 101     \n",
    "\n",
    "Данная модель показала следующие результаты на валидационной выборке:\n",
    "1. F1-мера: 63.2% (прирост составил ***4.2%***)\n",
    "2. AUC-ROC: 85.7% \n",
    "\n",
    "\n",
    "\n",
    "Далее изучим поведение модели при даунсэмплинге."
   ]
  },
  {
   "cell_type": "code",
   "execution_count": 21,
   "metadata": {},
   "outputs": [],
   "source": [
    "#напишем функцию для даунсэмлинга\n",
    "def downsample(features, target, fraction):\n",
    "    features_zeros = features[target == 0] \n",
    "    features_ones = features[target == 1] \n",
    "    target_zeros = target[target == 0] \n",
    "    target_ones = target[target == 1]\n",
    "    features_downsampled = pd.concat(\n",
    "        [features_zeros.sample(frac=fraction, random_state=12345)] + [features_ones]\n",
    "    )\n",
    "    target_downsampled = pd.concat(\n",
    "        [target_zeros.sample(frac=fraction, random_state=12345)] + [target_ones]\n",
    "    )\n",
    "    features_downsampled, target_downsampled = shuffle(\n",
    "        features_downsampled, target_downsampled, random_state=12345\n",
    "    )\n",
    "    return features_downsampled, target_downsampled"
   ]
  },
  {
   "cell_type": "code",
   "execution_count": 22,
   "metadata": {},
   "outputs": [],
   "source": [
    "#применим ее на обучающей выборке\n",
    "features_downsampled, target_downsampled = downsample(features_train, target_train, 0.25)"
   ]
  },
  {
   "cell_type": "code",
   "execution_count": 23,
   "metadata": {
    "scrolled": true
   },
   "outputs": [
    {
     "data": {
      "text/plain": [
       "1.0    1390\n",
       "0.0    1357\n",
       "Name: Exited, dtype: int64"
      ]
     },
     "execution_count": 23,
     "metadata": {},
     "output_type": "execute_result"
    }
   ],
   "source": [
    "#проверим результат ее работы\n",
    "target_downsampled.value_counts()"
   ]
  },
  {
   "cell_type": "code",
   "execution_count": 28,
   "metadata": {},
   "outputs": [
    {
     "data": {
      "image/png": "[encoded data removed]",
      "text/plain": [
       "<Figure size 432x288 with 1 Axes>"
      ]
     },
     "metadata": {
      "needs_background": "light"
     },
     "output_type": "display_data"
    },
    {
     "data": {
      "image/png": "[encoded data removed]",
      "text/plain": [
       "<Figure size 432x288 with 1 Axes>"
      ]
     },
     "metadata": {
      "needs_background": "light"
     },
     "output_type": "display_data"
    },
    {
     "data": {
      "image/png": "[encoded data removed]",
      "text/plain": [
       "<Figure size 432x288 with 1 Axes>"
      ]
     },
     "metadata": {
      "needs_background": "light"
     },
     "output_type": "display_data"
    },
    {
     "data": {
      "image/png": "[encoded data removed]",
      "text/plain": [
       "<Figure size 432x288 with 1 Axes>"
      ]
     },
     "metadata": {
      "needs_background": "light"
     },
     "output_type": "display_data"
    },
    {
     "data": {
      "text/plain": [
       "'F1 - мера лучшей модели:'"
      ]
     },
     "metadata": {},
     "output_type": "display_data"
    },
    {
     "data": {
      "text/plain": [
       "0.5824915824915825"
      ]
     },
     "metadata": {},
     "output_type": "display_data"
    },
    {
     "data": {
      "text/plain": [
       "'AUC_ROC лучшей модели:'"
      ]
     },
     "metadata": {},
     "output_type": "display_data"
    },
    {
     "data": {
      "text/plain": [
       "0.8611582621299969"
      ]
     },
     "metadata": {},
     "output_type": "display_data"
    },
    {
     "data": {
      "text/plain": [
       "'Лучшая модель:'"
      ]
     },
     "metadata": {},
     "output_type": "display_data"
    },
    {
     "data": {
      "text/plain": [
       "RandomForestClassifier(max_depth=6, n_estimators=56, random_state=12345)"
      ]
     },
     "metadata": {},
     "output_type": "display_data"
    },
    {
     "name": "stdout",
     "output_type": "stream",
     "text": [
      "CPU times: user 15.6 s, sys: 156 ms, total: 15.8 s\n",
      "Wall time: 15.8 s\n"
     ]
    }
   ],
   "source": [
    "%%time\n",
    "\n",
    "#применим функцию для поиска лучшей модели и изучим выходные данные.\n",
    "best_model(features_downsampled, target_downsampled, (0.56, 0.585), (0.86, 0.864))"
   ]
  },
  {
   "cell_type": "markdown",
   "metadata": {},
   "source": [
    "Вполне ожидаемо, что метрики на модели, обученной с меньшим набором признаков будет хуже.     \n",
    "Посмотрим на результаты.\n",
    "\n",
    "В результате даунсемплинга имеем случайный лес со следующими гиперпараметрами:\n",
    "- Глубина: 6\n",
    "- Количество деревьев: 56    \n",
    "\n",
    "Данная модель показала следующие результаты на валидационной выборке:\n",
    "1. F1-мера: 58.2% (падение составило ***0.2%***).   59\n",
    "2. AUC-ROC: 86.1% (незначительный рост 0.4%)   85.7"
   ]
  },
  {
   "cell_type": "markdown",
   "metadata": {},
   "source": [
    "### Промежуточные выводы\n",
    "\n",
    "Наилучшая метрика F1-меры у модели, которая была обучена на данных через Upsampling.\n",
    "\n",
    "Данная модель имеет следующие гиперпараметры:\n",
    "- Глубина: 16\n",
    "- Количество деревьев: 101\n",
    "\n",
    "Случайный лес с такими гиперпараметрами мы и будем проверять на тестовой выборке."
   ]
  },
  {
   "cell_type": "markdown",
   "metadata": {},
   "source": [
    "## Тестирование модели"
   ]
  },
  {
   "cell_type": "markdown",
   "metadata": {},
   "source": [
    "Проведем тестирование случайного леса на тестовой выборке."
   ]
  },
  {
   "cell_type": "code",
   "execution_count": 29,
   "metadata": {},
   "outputs": [
    {
     "name": "stdout",
     "output_type": "stream",
     "text": [
      "0.6102449888641426\n",
      "0.859909030291484\n"
     ]
    }
   ],
   "source": [
    "model = RandomForestClassifier(\n",
    "    max_depth=16, n_estimators=101, random_state=12345\n",
    "    ).fit(features_upsampled, target_upsampled)\n",
    "\n",
    "predictions_valid = model.predict(features_test)\n",
    "f1 = f1_score(target_test, predictions_valid)\n",
    "probabilities_valid = model.predict_proba(features_test)\n",
    "probabilities_one_valid = probabilities_valid[:, 1]\n",
    "auc_roc = roc_auc_score(target_test, probabilities_one_valid)\n",
    "\n",
    "print(f1)\n",
    "print(auc_roc)"
   ]
  },
  {
   "cell_type": "markdown",
   "metadata": {},
   "source": [
    "### Вывод:\n",
    "\n",
    "Случайный лес с гиперпараметрами:\n",
    "- глубина 16\n",
    "- количество деревьев 101\n",
    "\n",
    "Который был обучен на данных после устранения дисбаланса с помощью апсэмплинга имеет следующие метрики:\n",
    "F1-мера: ***62.2%*** \n",
    "AUC-ROC: ***85.9%***\n",
    "\n",
    "\n",
    "Для дальнейшего улучшения метрик нужно увеличение выборки (все же мы лишились 10% данных из-за пропусков) и решение проблемы с дисбалансом."
   ]
  }
 ],
 "metadata": {
  "ExecuteTimeLog": [
   {
    "duration": 428,
    "start_time": "2022-10-24T18:01:59.280Z"
   },
   {
    "duration": 84,
    "start_time": "2022-10-24T18:18:41.658Z"
   },
   {
    "duration": 21,
    "start_time": "2022-10-24T18:18:54.299Z"
   },
   {
    "duration": 8,
    "start_time": "2022-10-24T18:22:24.462Z"
   },
   {
    "duration": 5,
    "start_time": "2022-10-24T18:22:51.863Z"
   },
   {
    "duration": 15,
    "start_time": "2022-10-24T18:23:20.957Z"
   },
   {
    "duration": 80,
    "start_time": "2022-10-24T18:24:39.309Z"
   },
   {
    "duration": 5,
    "start_time": "2022-10-24T18:24:54.804Z"
   },
   {
    "duration": 15,
    "start_time": "2022-10-24T18:25:12.972Z"
   },
   {
    "duration": 6,
    "start_time": "2022-10-24T18:25:44.355Z"
   },
   {
    "duration": 6,
    "start_time": "2022-10-24T18:26:09.642Z"
   },
   {
    "duration": 9,
    "start_time": "2022-10-24T18:29:17.454Z"
   },
   {
    "duration": 18,
    "start_time": "2022-10-24T18:29:29.173Z"
   },
   {
    "duration": 7,
    "start_time": "2022-10-24T18:29:35.917Z"
   },
   {
    "duration": 19,
    "start_time": "2022-10-24T18:29:56.246Z"
   },
   {
    "duration": 726,
    "start_time": "2022-10-24T18:30:35.485Z"
   },
   {
    "duration": 78,
    "start_time": "2022-10-24T18:33:50.341Z"
   },
   {
    "duration": 32,
    "start_time": "2022-10-24T18:34:00.303Z"
   },
   {
    "duration": 33,
    "start_time": "2022-10-24T18:34:04.916Z"
   },
   {
    "duration": 11,
    "start_time": "2022-10-24T18:34:13.950Z"
   },
   {
    "duration": 9,
    "start_time": "2022-10-24T18:34:19.210Z"
   },
   {
    "duration": 12,
    "start_time": "2022-10-24T18:34:33.646Z"
   },
   {
    "duration": 4,
    "start_time": "2022-10-24T18:38:15.353Z"
   },
   {
    "duration": 7,
    "start_time": "2022-10-24T18:38:16.010Z"
   },
   {
    "duration": 6,
    "start_time": "2022-10-24T18:38:16.480Z"
   },
   {
    "duration": 5,
    "start_time": "2022-10-24T18:38:54.144Z"
   },
   {
    "duration": 6,
    "start_time": "2022-10-24T18:39:33.445Z"
   },
   {
    "duration": 48,
    "start_time": "2022-10-25T03:54:31.280Z"
   },
   {
    "duration": 394,
    "start_time": "2022-10-25T03:54:47.333Z"
   },
   {
    "duration": 704,
    "start_time": "2022-10-25T03:54:47.729Z"
   },
   {
    "duration": 81,
    "start_time": "2022-10-25T03:54:48.435Z"
   },
   {
    "duration": 20,
    "start_time": "2022-10-25T03:54:48.518Z"
   },
   {
    "duration": 4,
    "start_time": "2022-10-25T03:54:48.540Z"
   },
   {
    "duration": 21,
    "start_time": "2022-10-25T03:54:48.546Z"
   },
   {
    "duration": 9,
    "start_time": "2022-10-25T03:54:48.569Z"
   },
   {
    "duration": 20,
    "start_time": "2022-10-25T03:54:48.580Z"
   },
   {
    "duration": 41,
    "start_time": "2022-10-25T03:54:48.602Z"
   },
   {
    "duration": 4,
    "start_time": "2022-10-25T03:54:48.645Z"
   },
   {
    "duration": 11,
    "start_time": "2022-10-25T03:54:48.650Z"
   },
   {
    "duration": 16,
    "start_time": "2022-10-25T03:54:48.663Z"
   },
   {
    "duration": 8,
    "start_time": "2022-10-25T03:54:48.680Z"
   },
   {
    "duration": 8,
    "start_time": "2022-10-25T03:54:48.690Z"
   },
   {
    "duration": 11306,
    "start_time": "2022-10-25T03:57:14.819Z"
   },
   {
    "duration": 175,
    "start_time": "2022-10-25T04:10:16.587Z"
   },
   {
    "duration": 1536,
    "start_time": "2022-10-25T04:10:54.852Z"
   },
   {
    "duration": 667275,
    "start_time": "2022-10-25T04:12:16.516Z"
   },
   {
    "duration": 13416,
    "start_time": "2022-10-25T04:25:58.600Z"
   },
   {
    "duration": 37470,
    "start_time": "2022-10-25T04:29:29.932Z"
   },
   {
    "duration": 35304,
    "start_time": "2022-10-25T04:30:48.307Z"
   },
   {
    "duration": 1897,
    "start_time": "2022-10-25T04:31:46.997Z"
   },
   {
    "duration": 4820,
    "start_time": "2022-10-25T04:32:04.940Z"
   },
   {
    "duration": 28480,
    "start_time": "2022-10-25T04:32:17.809Z"
   },
   {
    "duration": 4642097,
    "start_time": "2022-10-25T04:33:41.211Z"
   },
   {
    "duration": 416,
    "start_time": "2022-10-26T04:22:49.892Z"
   },
   {
    "duration": 677,
    "start_time": "2022-10-26T04:22:50.723Z"
   },
   {
    "duration": 84,
    "start_time": "2022-10-26T04:22:51.402Z"
   },
   {
    "duration": 18,
    "start_time": "2022-10-26T04:22:52.025Z"
   },
   {
    "duration": 4,
    "start_time": "2022-10-26T04:22:57.606Z"
   },
   {
    "duration": 16,
    "start_time": "2022-10-26T04:22:58.598Z"
   },
   {
    "duration": 5,
    "start_time": "2022-10-26T04:23:02.604Z"
   },
   {
    "duration": 10,
    "start_time": "2022-10-26T04:23:06.527Z"
   },
   {
    "duration": 32,
    "start_time": "2022-10-26T04:23:08.530Z"
   },
   {
    "duration": 4,
    "start_time": "2022-10-26T04:23:09.511Z"
   },
   {
    "duration": 7,
    "start_time": "2022-10-26T04:23:10.082Z"
   },
   {
    "duration": 5,
    "start_time": "2022-10-26T04:23:12.293Z"
   },
   {
    "duration": 5,
    "start_time": "2022-10-26T04:23:15.663Z"
   },
   {
    "duration": 5,
    "start_time": "2022-10-26T04:23:18.820Z"
   },
   {
    "duration": 155,
    "start_time": "2022-10-26T04:25:05.841Z"
   },
   {
    "duration": 5155,
    "start_time": "2022-10-26T04:25:13.254Z"
   },
   {
    "duration": 5699,
    "start_time": "2022-10-26T04:25:30.440Z"
   },
   {
    "duration": 12012,
    "start_time": "2022-10-26T04:25:44.600Z"
   },
   {
    "duration": 2407,
    "start_time": "2022-10-26T04:26:03.457Z"
   },
   {
    "duration": 17057,
    "start_time": "2022-10-26T04:26:30.822Z"
   },
   {
    "duration": 2390,
    "start_time": "2022-10-26T04:28:16.615Z"
   },
   {
    "duration": 411,
    "start_time": "2022-10-26T04:28:47.167Z"
   },
   {
    "duration": 2501,
    "start_time": "2022-10-26T04:28:53.996Z"
   },
   {
    "duration": 2508,
    "start_time": "2022-10-26T04:29:21.238Z"
   },
   {
    "duration": 2482,
    "start_time": "2022-10-26T04:29:57.587Z"
   },
   {
    "duration": 2474,
    "start_time": "2022-10-26T04:30:05.541Z"
   },
   {
    "duration": 17602,
    "start_time": "2022-10-26T04:31:15.664Z"
   },
   {
    "duration": 194,
    "start_time": "2022-10-26T15:06:00.224Z"
   },
   {
    "duration": 772,
    "start_time": "2022-10-26T15:06:25.288Z"
   },
   {
    "duration": 733,
    "start_time": "2022-10-26T15:06:26.062Z"
   },
   {
    "duration": 165,
    "start_time": "2022-10-26T15:06:26.796Z"
   },
   {
    "duration": 28,
    "start_time": "2022-10-26T15:06:26.963Z"
   },
   {
    "duration": 5,
    "start_time": "2022-10-26T15:06:26.993Z"
   },
   {
    "duration": 20,
    "start_time": "2022-10-26T15:06:26.999Z"
   },
   {
    "duration": 5,
    "start_time": "2022-10-26T15:06:27.021Z"
   },
   {
    "duration": 10,
    "start_time": "2022-10-26T15:06:27.027Z"
   },
   {
    "duration": 45,
    "start_time": "2022-10-26T15:06:27.039Z"
   },
   {
    "duration": 4,
    "start_time": "2022-10-26T15:06:27.090Z"
   },
   {
    "duration": 10,
    "start_time": "2022-10-26T15:06:27.096Z"
   },
   {
    "duration": 6,
    "start_time": "2022-10-26T15:06:27.107Z"
   },
   {
    "duration": 8,
    "start_time": "2022-10-26T15:06:27.114Z"
   },
   {
    "duration": 5,
    "start_time": "2022-10-26T15:06:27.124Z"
   },
   {
    "duration": 2281,
    "start_time": "2022-10-26T15:06:27.131Z"
   },
   {
    "duration": 15097,
    "start_time": "2022-10-26T15:06:29.413Z"
   },
   {
    "duration": 2460,
    "start_time": "2022-10-26T15:09:05.754Z"
   },
   {
    "duration": 15910,
    "start_time": "2022-10-26T15:11:11.228Z"
   },
   {
    "duration": 16412,
    "start_time": "2022-10-26T15:12:16.606Z"
   },
   {
    "duration": 15920,
    "start_time": "2022-10-26T15:13:05.217Z"
   },
   {
    "duration": 15529,
    "start_time": "2022-10-26T15:14:14.396Z"
   },
   {
    "duration": 15344,
    "start_time": "2022-10-26T15:15:31.487Z"
   },
   {
    "duration": 15302,
    "start_time": "2022-10-26T15:16:02.134Z"
   },
   {
    "duration": 242,
    "start_time": "2022-10-26T15:16:51.874Z"
   },
   {
    "duration": 15276,
    "start_time": "2022-10-26T15:16:56.257Z"
   },
   {
    "duration": 2200,
    "start_time": "2022-10-26T15:17:11.535Z"
   },
   {
    "duration": 255,
    "start_time": "2022-10-26T15:17:13.737Z"
   },
   {
    "duration": 596,
    "start_time": "2022-10-26T15:17:16.089Z"
   },
   {
    "duration": 910,
    "start_time": "2022-10-26T15:17:16.687Z"
   },
   {
    "duration": 43,
    "start_time": "2022-10-26T15:17:17.599Z"
   },
   {
    "duration": 21,
    "start_time": "2022-10-26T15:17:17.644Z"
   },
   {
    "duration": 13,
    "start_time": "2022-10-26T15:17:17.668Z"
   },
   {
    "duration": 34,
    "start_time": "2022-10-26T15:17:17.689Z"
   },
   {
    "duration": 7,
    "start_time": "2022-10-26T15:17:17.725Z"
   },
   {
    "duration": 15,
    "start_time": "2022-10-26T15:17:17.734Z"
   },
   {
    "duration": 45,
    "start_time": "2022-10-26T15:17:17.752Z"
   },
   {
    "duration": 9,
    "start_time": "2022-10-26T15:17:17.799Z"
   },
   {
    "duration": 16,
    "start_time": "2022-10-26T15:17:17.810Z"
   },
   {
    "duration": 10,
    "start_time": "2022-10-26T15:17:17.829Z"
   },
   {
    "duration": 14,
    "start_time": "2022-10-26T15:17:17.841Z"
   },
   {
    "duration": 25,
    "start_time": "2022-10-26T15:17:17.858Z"
   },
   {
    "duration": 2215,
    "start_time": "2022-10-26T15:17:17.887Z"
   },
   {
    "duration": 234,
    "start_time": "2022-10-26T15:17:20.104Z"
   },
   {
    "duration": 15056,
    "start_time": "2022-10-26T15:17:20.340Z"
   },
   {
    "duration": 263,
    "start_time": "2022-10-26T15:17:35.398Z"
   },
   {
    "duration": 5,
    "start_time": "2022-10-26T15:21:03.995Z"
   },
   {
    "duration": 6,
    "start_time": "2022-10-26T15:25:46.433Z"
   },
   {
    "duration": 5,
    "start_time": "2022-10-26T15:31:16.133Z"
   },
   {
    "duration": 4,
    "start_time": "2022-10-26T15:31:27.291Z"
   },
   {
    "duration": 5,
    "start_time": "2022-10-26T15:33:47.784Z"
   },
   {
    "duration": 108,
    "start_time": "2022-10-26T15:33:58.605Z"
   },
   {
    "duration": 4,
    "start_time": "2022-10-26T15:35:10.001Z"
   },
   {
    "duration": 16,
    "start_time": "2022-10-26T15:35:11.986Z"
   },
   {
    "duration": 12,
    "start_time": "2022-10-26T15:35:15.300Z"
   },
   {
    "duration": 4,
    "start_time": "2022-10-26T15:35:32.198Z"
   },
   {
    "duration": 23,
    "start_time": "2022-10-26T15:35:58.465Z"
   },
   {
    "duration": 17,
    "start_time": "2022-10-26T15:46:12.108Z"
   },
   {
    "duration": 4,
    "start_time": "2022-10-26T15:46:43.411Z"
   },
   {
    "duration": 92,
    "start_time": "2022-10-26T15:46:50.343Z"
   },
   {
    "duration": 11,
    "start_time": "2022-10-26T15:48:53.824Z"
   },
   {
    "duration": 5,
    "start_time": "2022-10-26T15:51:15.791Z"
   },
   {
    "duration": 2217,
    "start_time": "2022-10-26T15:52:11.296Z"
   },
   {
    "duration": 3,
    "start_time": "2022-10-26T15:52:20.712Z"
   },
   {
    "duration": 2419,
    "start_time": "2022-10-26T15:52:26.010Z"
   },
   {
    "duration": 76,
    "start_time": "2022-10-26T15:53:08.588Z"
   },
   {
    "duration": 6,
    "start_time": "2022-10-26T15:53:17.814Z"
   },
   {
    "duration": 5,
    "start_time": "2022-10-26T15:53:40.825Z"
   },
   {
    "duration": 19,
    "start_time": "2022-10-26T15:53:43.304Z"
   },
   {
    "duration": 621,
    "start_time": "2022-10-26T15:54:16.447Z"
   },
   {
    "duration": 783,
    "start_time": "2022-10-26T15:54:17.069Z"
   },
   {
    "duration": 56,
    "start_time": "2022-10-26T15:54:17.854Z"
   },
   {
    "duration": 24,
    "start_time": "2022-10-26T15:54:17.912Z"
   },
   {
    "duration": 6,
    "start_time": "2022-10-26T15:54:17.938Z"
   },
   {
    "duration": 46,
    "start_time": "2022-10-26T15:54:17.946Z"
   },
   {
    "duration": 8,
    "start_time": "2022-10-26T15:54:17.995Z"
   },
   {
    "duration": 33,
    "start_time": "2022-10-26T15:54:18.006Z"
   },
   {
    "duration": 46,
    "start_time": "2022-10-26T15:54:18.041Z"
   },
   {
    "duration": 4,
    "start_time": "2022-10-26T15:54:18.089Z"
   },
   {
    "duration": 19,
    "start_time": "2022-10-26T15:54:18.095Z"
   },
   {
    "duration": 14,
    "start_time": "2022-10-26T15:54:18.116Z"
   },
   {
    "duration": 11,
    "start_time": "2022-10-26T15:54:18.132Z"
   },
   {
    "duration": 16,
    "start_time": "2022-10-26T15:54:18.145Z"
   },
   {
    "duration": 6,
    "start_time": "2022-10-26T15:54:18.162Z"
   },
   {
    "duration": 2177,
    "start_time": "2022-10-26T15:54:18.169Z"
   },
   {
    "duration": 139,
    "start_time": "2022-10-26T15:54:20.347Z"
   },
   {
    "duration": 0,
    "start_time": "2022-10-26T15:54:20.487Z"
   },
   {
    "duration": 0,
    "start_time": "2022-10-26T15:54:20.488Z"
   },
   {
    "duration": 0,
    "start_time": "2022-10-26T15:54:20.489Z"
   },
   {
    "duration": 0,
    "start_time": "2022-10-26T15:54:20.490Z"
   },
   {
    "duration": 0,
    "start_time": "2022-10-26T15:54:20.491Z"
   },
   {
    "duration": 84,
    "start_time": "2022-10-26T15:56:17.546Z"
   },
   {
    "duration": 6,
    "start_time": "2022-10-26T15:56:22.870Z"
   },
   {
    "duration": 2100,
    "start_time": "2022-10-26T15:56:24.893Z"
   },
   {
    "duration": 7,
    "start_time": "2022-10-26T15:57:41.863Z"
   },
   {
    "duration": 97,
    "start_time": "2022-10-26T15:57:45.891Z"
   },
   {
    "duration": 2331,
    "start_time": "2022-10-26T15:57:54.054Z"
   },
   {
    "duration": 8,
    "start_time": "2022-10-26T15:59:27.103Z"
   },
   {
    "duration": 111,
    "start_time": "2022-10-26T15:59:29.829Z"
   },
   {
    "duration": 101,
    "start_time": "2022-10-26T16:01:16.020Z"
   },
   {
    "duration": 583,
    "start_time": "2022-10-26T16:01:30.529Z"
   },
   {
    "duration": 681,
    "start_time": "2022-10-26T16:01:31.114Z"
   },
   {
    "duration": 46,
    "start_time": "2022-10-26T16:01:31.797Z"
   },
   {
    "duration": 17,
    "start_time": "2022-10-26T16:01:31.845Z"
   },
   {
    "duration": 5,
    "start_time": "2022-10-26T16:01:31.864Z"
   },
   {
    "duration": 40,
    "start_time": "2022-10-26T16:01:31.871Z"
   },
   {
    "duration": 6,
    "start_time": "2022-10-26T16:01:31.912Z"
   },
   {
    "duration": 15,
    "start_time": "2022-10-26T16:01:31.920Z"
   },
   {
    "duration": 35,
    "start_time": "2022-10-26T16:01:31.937Z"
   },
   {
    "duration": 16,
    "start_time": "2022-10-26T16:01:31.975Z"
   },
   {
    "duration": 14,
    "start_time": "2022-10-26T16:01:31.992Z"
   },
   {
    "duration": 8,
    "start_time": "2022-10-26T16:01:32.007Z"
   },
   {
    "duration": 8,
    "start_time": "2022-10-26T16:01:32.016Z"
   },
   {
    "duration": 7,
    "start_time": "2022-10-26T16:01:32.025Z"
   },
   {
    "duration": 6,
    "start_time": "2022-10-26T16:01:32.033Z"
   },
   {
    "duration": 2364,
    "start_time": "2022-10-26T16:01:32.040Z"
   },
   {
    "duration": 5,
    "start_time": "2022-10-26T16:01:34.406Z"
   },
   {
    "duration": 194,
    "start_time": "2022-10-26T16:01:34.413Z"
   },
   {
    "duration": 4,
    "start_time": "2022-10-26T16:01:34.609Z"
   },
   {
    "duration": 5,
    "start_time": "2022-10-26T16:01:34.615Z"
   },
   {
    "duration": 12,
    "start_time": "2022-10-26T16:01:34.621Z"
   },
   {
    "duration": 9,
    "start_time": "2022-10-26T16:04:49.497Z"
   },
   {
    "duration": 108,
    "start_time": "2022-10-26T16:04:54.594Z"
   },
   {
    "duration": 6,
    "start_time": "2022-10-26T16:05:08.507Z"
   },
   {
    "duration": 15924,
    "start_time": "2022-10-26T16:05:27.808Z"
   },
   {
    "duration": 5,
    "start_time": "2022-10-26T16:06:25.470Z"
   },
   {
    "duration": 620,
    "start_time": "2022-10-26T16:06:30.769Z"
   },
   {
    "duration": 694,
    "start_time": "2022-10-26T16:06:31.394Z"
   },
   {
    "duration": 45,
    "start_time": "2022-10-26T16:06:32.093Z"
   },
   {
    "duration": 18,
    "start_time": "2022-10-26T16:06:32.140Z"
   },
   {
    "duration": 5,
    "start_time": "2022-10-26T16:06:32.159Z"
   },
   {
    "duration": 20,
    "start_time": "2022-10-26T16:06:32.165Z"
   },
   {
    "duration": 6,
    "start_time": "2022-10-26T16:06:32.190Z"
   },
   {
    "duration": 12,
    "start_time": "2022-10-26T16:06:32.198Z"
   },
   {
    "duration": 29,
    "start_time": "2022-10-26T16:06:32.211Z"
   },
   {
    "duration": 4,
    "start_time": "2022-10-26T16:06:32.242Z"
   },
   {
    "duration": 14,
    "start_time": "2022-10-26T16:06:32.248Z"
   },
   {
    "duration": 18,
    "start_time": "2022-10-26T16:06:32.263Z"
   },
   {
    "duration": 10,
    "start_time": "2022-10-26T16:06:32.288Z"
   },
   {
    "duration": 8,
    "start_time": "2022-10-26T16:06:32.299Z"
   },
   {
    "duration": 5,
    "start_time": "2022-10-26T16:06:32.308Z"
   },
   {
    "duration": 2354,
    "start_time": "2022-10-26T16:06:32.315Z"
   },
   {
    "duration": 17,
    "start_time": "2022-10-26T16:06:34.670Z"
   },
   {
    "duration": 15556,
    "start_time": "2022-10-26T16:06:34.688Z"
   },
   {
    "duration": 4,
    "start_time": "2022-10-26T16:06:50.246Z"
   },
   {
    "duration": 12,
    "start_time": "2022-10-26T16:06:50.251Z"
   },
   {
    "duration": 26,
    "start_time": "2022-10-26T16:06:50.265Z"
   },
   {
    "duration": 118,
    "start_time": "2022-10-26T17:34:18.291Z"
   },
   {
    "duration": 4395,
    "start_time": "2022-10-26T17:34:26.008Z"
   },
   {
    "duration": 4283,
    "start_time": "2022-10-26T17:35:00.156Z"
   },
   {
    "duration": 9,
    "start_time": "2022-10-26T17:35:29.248Z"
   },
   {
    "duration": 7,
    "start_time": "2022-10-26T17:36:00.618Z"
   },
   {
    "duration": 3348,
    "start_time": "2022-10-26T17:36:04.669Z"
   },
   {
    "duration": 22436,
    "start_time": "2022-10-26T17:37:23.742Z"
   },
   {
    "duration": 22698,
    "start_time": "2022-10-26T17:38:43.964Z"
   },
   {
    "duration": 21901,
    "start_time": "2022-10-26T17:39:34.700Z"
   },
   {
    "duration": 74,
    "start_time": "2022-10-26T17:44:10.687Z"
   },
   {
    "duration": 6,
    "start_time": "2022-10-26T17:44:16.203Z"
   },
   {
    "duration": 5,
    "start_time": "2022-10-26T17:45:16.498Z"
   },
   {
    "duration": 19,
    "start_time": "2022-10-26T17:46:15.913Z"
   },
   {
    "duration": 8,
    "start_time": "2022-10-26T17:46:29.104Z"
   },
   {
    "duration": 18,
    "start_time": "2022-10-26T17:46:51.476Z"
   },
   {
    "duration": 1845,
    "start_time": "2022-10-26T17:47:26.908Z"
   },
   {
    "duration": 41,
    "start_time": "2022-10-26T17:48:24.322Z"
   },
   {
    "duration": 8947,
    "start_time": "2022-10-26T17:48:41.557Z"
   },
   {
    "duration": 8643,
    "start_time": "2022-10-26T17:49:19.564Z"
   },
   {
    "duration": 8689,
    "start_time": "2022-10-26T17:50:11.602Z"
   },
   {
    "duration": 8487,
    "start_time": "2022-10-26T17:50:48.124Z"
   },
   {
    "duration": 13,
    "start_time": "2022-10-26T17:57:08.374Z"
   },
   {
    "duration": 883,
    "start_time": "2022-10-26T17:57:30.814Z"
   },
   {
    "duration": 896,
    "start_time": "2022-10-26T17:57:50.966Z"
   },
   {
    "duration": 720,
    "start_time": "2022-10-27T18:01:17.243Z"
   },
   {
    "duration": 63,
    "start_time": "2022-10-27T18:09:55.471Z"
   },
   {
    "duration": 623,
    "start_time": "2022-10-27T18:10:02.679Z"
   },
   {
    "duration": 680,
    "start_time": "2022-10-27T18:10:03.303Z"
   },
   {
    "duration": 339,
    "start_time": "2022-10-27T18:10:03.985Z"
   },
   {
    "duration": 17,
    "start_time": "2022-10-27T18:10:04.326Z"
   },
   {
    "duration": 4,
    "start_time": "2022-10-27T18:10:04.344Z"
   },
   {
    "duration": 26,
    "start_time": "2022-10-27T18:10:04.350Z"
   },
   {
    "duration": 5,
    "start_time": "2022-10-27T18:10:04.378Z"
   },
   {
    "duration": 23,
    "start_time": "2022-10-27T18:10:04.385Z"
   },
   {
    "duration": 47,
    "start_time": "2022-10-27T18:10:04.409Z"
   },
   {
    "duration": 4,
    "start_time": "2022-10-27T18:10:04.459Z"
   },
   {
    "duration": 27,
    "start_time": "2022-10-27T18:10:04.465Z"
   },
   {
    "duration": 25,
    "start_time": "2022-10-27T18:10:04.493Z"
   },
   {
    "duration": 25,
    "start_time": "2022-10-27T18:10:04.520Z"
   },
   {
    "duration": 13,
    "start_time": "2022-10-27T18:10:04.546Z"
   },
   {
    "duration": 12,
    "start_time": "2022-10-27T18:10:04.561Z"
   },
   {
    "duration": 2289,
    "start_time": "2022-10-27T18:10:04.574Z"
   },
   {
    "duration": 5,
    "start_time": "2022-10-27T18:10:06.865Z"
   },
   {
    "duration": 14648,
    "start_time": "2022-10-27T18:10:06.871Z"
   },
   {
    "duration": 3,
    "start_time": "2022-10-27T18:10:21.521Z"
   },
   {
    "duration": 8,
    "start_time": "2022-10-27T18:10:21.526Z"
   },
   {
    "duration": 10,
    "start_time": "2022-10-27T18:10:21.535Z"
   },
   {
    "duration": 15,
    "start_time": "2022-10-27T18:10:21.547Z"
   },
   {
    "duration": 3001,
    "start_time": "2022-10-27T18:10:21.564Z"
   },
   {
    "duration": 19974,
    "start_time": "2022-10-27T18:10:24.566Z"
   },
   {
    "duration": 3,
    "start_time": "2022-10-27T18:10:44.542Z"
   },
   {
    "duration": 11,
    "start_time": "2022-10-27T18:10:44.547Z"
   },
   {
    "duration": 5,
    "start_time": "2022-10-27T18:10:44.560Z"
   },
   {
    "duration": 1268,
    "start_time": "2022-10-27T18:10:44.567Z"
   },
   {
    "duration": 7747,
    "start_time": "2022-10-27T18:10:45.837Z"
   },
   {
    "duration": 822,
    "start_time": "2022-10-27T18:10:53.586Z"
   },
   {
    "duration": 6,
    "start_time": "2022-10-27T18:21:19.334Z"
   },
   {
    "duration": 6,
    "start_time": "2022-10-27T18:21:43.214Z"
   },
   {
    "duration": 3,
    "start_time": "2022-10-27T18:55:33.697Z"
   },
   {
    "duration": 4,
    "start_time": "2022-10-27T18:55:34.224Z"
   },
   {
    "duration": 39,
    "start_time": "2022-10-27T18:55:34.858Z"
   },
   {
    "duration": 12,
    "start_time": "2022-10-27T18:55:35.811Z"
   },
   {
    "duration": 4,
    "start_time": "2022-10-27T18:55:37.109Z"
   },
   {
    "duration": 18,
    "start_time": "2022-10-27T18:55:38.009Z"
   },
   {
    "duration": 8,
    "start_time": "2022-10-27T18:55:41.262Z"
   },
   {
    "duration": 8,
    "start_time": "2022-10-27T18:55:44.262Z"
   },
   {
    "duration": 28,
    "start_time": "2022-10-27T18:55:45.770Z"
   },
   {
    "duration": 4,
    "start_time": "2022-10-27T18:55:46.821Z"
   },
   {
    "duration": 8,
    "start_time": "2022-10-27T18:55:48.788Z"
   },
   {
    "duration": 6,
    "start_time": "2022-10-27T18:55:49.288Z"
   },
   {
    "duration": 7,
    "start_time": "2022-10-27T18:55:49.881Z"
   },
   {
    "duration": 7,
    "start_time": "2022-10-27T18:55:54.231Z"
   },
   {
    "duration": 8,
    "start_time": "2022-10-27T18:55:56.052Z"
   },
   {
    "duration": 2526,
    "start_time": "2022-10-27T18:56:25.588Z"
   },
   {
    "duration": 11,
    "start_time": "2022-10-27T18:56:59.123Z"
   },
   {
    "duration": 17174,
    "start_time": "2022-10-27T18:57:01.935Z"
   },
   {
    "duration": 4,
    "start_time": "2022-10-27T18:57:45.061Z"
   },
   {
    "duration": 9,
    "start_time": "2022-10-27T18:57:47.295Z"
   },
   {
    "duration": 6,
    "start_time": "2022-10-27T18:57:49.015Z"
   },
   {
    "duration": 22842,
    "start_time": "2022-10-27T18:59:09.448Z"
   },
   {
    "duration": 22999,
    "start_time": "2022-10-27T19:00:02.824Z"
   },
   {
    "duration": 4,
    "start_time": "2022-10-27T19:00:56.484Z"
   },
   {
    "duration": 9,
    "start_time": "2022-10-27T19:01:00.053Z"
   },
   {
    "duration": 7,
    "start_time": "2022-10-27T19:01:01.900Z"
   },
   {
    "duration": 9208,
    "start_time": "2022-10-27T19:01:21.867Z"
   },
   {
    "duration": 933,
    "start_time": "2022-10-27T19:02:06.915Z"
   },
   {
    "duration": 21,
    "start_time": "2022-10-28T09:55:32.057Z"
   },
   {
    "duration": 165,
    "start_time": "2022-10-28T09:55:34.342Z"
   },
   {
    "duration": 856,
    "start_time": "2022-10-28T09:55:47.425Z"
   },
   {
    "duration": 745,
    "start_time": "2022-10-28T09:55:48.283Z"
   },
   {
    "duration": 87,
    "start_time": "2022-10-28T09:55:49.030Z"
   },
   {
    "duration": 18,
    "start_time": "2022-10-28T09:55:49.119Z"
   },
   {
    "duration": 22,
    "start_time": "2022-10-28T09:55:49.139Z"
   },
   {
    "duration": 37,
    "start_time": "2022-10-28T09:55:49.163Z"
   },
   {
    "duration": 7,
    "start_time": "2022-10-28T09:55:49.202Z"
   },
   {
    "duration": 14,
    "start_time": "2022-10-28T09:55:49.210Z"
   },
   {
    "duration": 43,
    "start_time": "2022-10-28T09:55:49.225Z"
   },
   {
    "duration": 4,
    "start_time": "2022-10-28T09:55:49.277Z"
   },
   {
    "duration": 13,
    "start_time": "2022-10-28T09:55:49.284Z"
   },
   {
    "duration": 7,
    "start_time": "2022-10-28T09:55:49.299Z"
   },
   {
    "duration": 7,
    "start_time": "2022-10-28T09:55:49.308Z"
   },
   {
    "duration": 6,
    "start_time": "2022-10-28T09:55:49.317Z"
   },
   {
    "duration": 30,
    "start_time": "2022-10-28T09:55:49.325Z"
   },
   {
    "duration": 19609,
    "start_time": "2022-10-28T09:55:49.357Z"
   },
   {
    "duration": 4,
    "start_time": "2022-10-28T09:56:08.968Z"
   },
   {
    "duration": 14,
    "start_time": "2022-10-28T09:56:08.974Z"
   },
   {
    "duration": 6,
    "start_time": "2022-10-28T09:56:08.989Z"
   },
   {
    "duration": 26788,
    "start_time": "2022-10-28T09:56:08.997Z"
   },
   {
    "duration": 4,
    "start_time": "2022-10-28T09:56:35.786Z"
   },
   {
    "duration": 19,
    "start_time": "2022-10-28T09:56:35.792Z"
   },
   {
    "duration": 17,
    "start_time": "2022-10-28T09:56:35.813Z"
   },
   {
    "duration": 10070,
    "start_time": "2022-10-28T09:56:35.832Z"
   },
   {
    "duration": 955,
    "start_time": "2022-10-28T09:56:45.904Z"
   },
   {
    "duration": 9,
    "start_time": "2022-10-28T09:56:46.863Z"
   },
   {
    "duration": 19934,
    "start_time": "2022-10-28T09:56:46.874Z"
   },
   {
    "duration": 9,
    "start_time": "2022-10-28T09:57:40.103Z"
   },
   {
    "duration": 39733,
    "start_time": "2022-10-28T09:57:49.821Z"
   },
   {
    "duration": 691,
    "start_time": "2022-10-28T09:59:26.165Z"
   },
   {
    "duration": 729,
    "start_time": "2022-10-28T09:59:26.858Z"
   },
   {
    "duration": 46,
    "start_time": "2022-10-28T09:59:27.589Z"
   },
   {
    "duration": 17,
    "start_time": "2022-10-28T09:59:27.637Z"
   },
   {
    "duration": 9,
    "start_time": "2022-10-28T09:59:27.657Z"
   },
   {
    "duration": 21,
    "start_time": "2022-10-28T09:59:27.668Z"
   },
   {
    "duration": 6,
    "start_time": "2022-10-28T09:59:27.691Z"
   },
   {
    "duration": 12,
    "start_time": "2022-10-28T09:59:27.699Z"
   },
   {
    "duration": 55,
    "start_time": "2022-10-28T09:59:27.712Z"
   },
   {
    "duration": 5,
    "start_time": "2022-10-28T09:59:27.769Z"
   },
   {
    "duration": 16,
    "start_time": "2022-10-28T09:59:27.775Z"
   },
   {
    "duration": 7,
    "start_time": "2022-10-28T09:59:27.793Z"
   },
   {
    "duration": 8,
    "start_time": "2022-10-28T09:59:27.802Z"
   },
   {
    "duration": 10,
    "start_time": "2022-10-28T09:59:27.814Z"
   },
   {
    "duration": 37,
    "start_time": "2022-10-28T09:59:27.826Z"
   },
   {
    "duration": 40252,
    "start_time": "2022-10-28T09:59:27.865Z"
   },
   {
    "duration": 4,
    "start_time": "2022-10-28T10:00:08.119Z"
   },
   {
    "duration": 23,
    "start_time": "2022-10-28T10:00:08.124Z"
   },
   {
    "duration": 22,
    "start_time": "2022-10-28T10:00:08.149Z"
   },
   {
    "duration": 62792,
    "start_time": "2022-10-28T10:00:08.173Z"
   },
   {
    "duration": 4,
    "start_time": "2022-10-28T10:01:10.967Z"
   },
   {
    "duration": 14,
    "start_time": "2022-10-28T10:01:10.973Z"
   },
   {
    "duration": 6,
    "start_time": "2022-10-28T10:01:10.989Z"
   },
   {
    "duration": 21110,
    "start_time": "2022-10-28T10:01:10.997Z"
   },
   {
    "duration": 995,
    "start_time": "2022-10-28T10:01:32.108Z"
   },
   {
    "duration": 10,
    "start_time": "2022-10-28T10:02:03.546Z"
   },
   {
    "duration": 643,
    "start_time": "2022-10-28T10:12:26.827Z"
   },
   {
    "duration": 704,
    "start_time": "2022-10-28T10:12:27.472Z"
   },
   {
    "duration": 44,
    "start_time": "2022-10-28T10:12:28.178Z"
   },
   {
    "duration": 19,
    "start_time": "2022-10-28T10:12:28.224Z"
   },
   {
    "duration": 5,
    "start_time": "2022-10-28T10:12:28.245Z"
   },
   {
    "duration": 19,
    "start_time": "2022-10-28T10:12:28.252Z"
   },
   {
    "duration": 9,
    "start_time": "2022-10-28T10:12:28.273Z"
   },
   {
    "duration": 22,
    "start_time": "2022-10-28T10:12:28.284Z"
   },
   {
    "duration": 35,
    "start_time": "2022-10-28T10:12:28.308Z"
   },
   {
    "duration": 11,
    "start_time": "2022-10-28T10:12:28.344Z"
   },
   {
    "duration": 14,
    "start_time": "2022-10-28T10:12:28.357Z"
   },
   {
    "duration": 9,
    "start_time": "2022-10-28T10:12:28.373Z"
   },
   {
    "duration": 7,
    "start_time": "2022-10-28T10:12:28.384Z"
   },
   {
    "duration": 5,
    "start_time": "2022-10-28T10:12:28.393Z"
   },
   {
    "duration": 11,
    "start_time": "2022-10-28T10:12:28.400Z"
   },
   {
    "duration": 39174,
    "start_time": "2022-10-28T10:12:52.456Z"
   },
   {
    "duration": 4,
    "start_time": "2022-10-28T10:59:52.435Z"
   },
   {
    "duration": 8,
    "start_time": "2022-10-28T10:59:53.698Z"
   },
   {
    "duration": 5,
    "start_time": "2022-10-28T10:59:54.016Z"
   },
   {
    "duration": 4,
    "start_time": "2022-10-28T10:59:55.266Z"
   },
   {
    "duration": 58565,
    "start_time": "2022-10-28T11:01:14.004Z"
   },
   {
    "duration": 61208,
    "start_time": "2022-10-28T11:34:06.103Z"
   },
   {
    "duration": 60489,
    "start_time": "2022-10-28T11:35:49.394Z"
   },
   {
    "duration": 61079,
    "start_time": "2022-10-28T11:37:17.077Z"
   },
   {
    "duration": 1376,
    "start_time": "2022-10-28T11:39:13.580Z"
   },
   {
    "duration": 4,
    "start_time": "2022-10-28T11:42:47.125Z"
   },
   {
    "duration": 9,
    "start_time": "2022-10-28T11:43:05.944Z"
   },
   {
    "duration": 6,
    "start_time": "2022-10-28T11:43:14.264Z"
   },
   {
    "duration": 21244,
    "start_time": "2022-10-28T11:43:37.966Z"
   },
   {
    "duration": 21193,
    "start_time": "2022-10-28T11:44:22.570Z"
   },
   {
    "duration": 20839,
    "start_time": "2022-10-28T11:44:57.982Z"
   },
   {
    "duration": 1231,
    "start_time": "2022-10-28T11:58:22.433Z"
   },
   {
    "duration": 3,
    "start_time": "2022-10-28T13:05:39.707Z"
   },
   {
    "duration": 4,
    "start_time": "2022-10-28T13:05:40.349Z"
   },
   {
    "duration": 41,
    "start_time": "2022-10-28T13:05:43.304Z"
   },
   {
    "duration": 15,
    "start_time": "2022-10-28T13:05:45.677Z"
   },
   {
    "duration": 136,
    "start_time": "2022-10-28T13:05:48.565Z"
   },
   {
    "duration": 5,
    "start_time": "2022-10-28T13:05:59.945Z"
   },
   {
    "duration": 17,
    "start_time": "2022-10-28T13:06:25.785Z"
   },
   {
    "duration": 7,
    "start_time": "2022-10-28T13:06:30.243Z"
   },
   {
    "duration": 9,
    "start_time": "2022-10-28T13:06:32.262Z"
   },
   {
    "duration": 8,
    "start_time": "2022-10-28T13:10:22.387Z"
   },
   {
    "duration": 33,
    "start_time": "2022-10-28T13:10:23.973Z"
   },
   {
    "duration": 5,
    "start_time": "2022-10-28T13:10:26.237Z"
   },
   {
    "duration": 9,
    "start_time": "2022-10-28T13:10:27.557Z"
   },
   {
    "duration": 7,
    "start_time": "2022-10-28T13:10:28.122Z"
   },
   {
    "duration": 6,
    "start_time": "2022-10-28T13:10:28.778Z"
   },
   {
    "duration": 6,
    "start_time": "2022-10-28T13:10:33.945Z"
   },
   {
    "duration": 10,
    "start_time": "2022-10-28T13:10:50.165Z"
   },
   {
    "duration": 25844,
    "start_time": "2022-10-28T13:10:55.076Z"
   },
   {
    "duration": 25685,
    "start_time": "2022-10-28T13:12:11.439Z"
   },
   {
    "duration": 669,
    "start_time": "2022-10-28T13:13:31.003Z"
   },
   {
    "duration": 761,
    "start_time": "2022-10-28T13:13:31.675Z"
   },
   {
    "duration": 42,
    "start_time": "2022-10-28T13:13:32.438Z"
   },
   {
    "duration": 19,
    "start_time": "2022-10-28T13:13:32.482Z"
   },
   {
    "duration": 19,
    "start_time": "2022-10-28T13:13:32.504Z"
   },
   {
    "duration": 20,
    "start_time": "2022-10-28T13:13:32.525Z"
   },
   {
    "duration": 7,
    "start_time": "2022-10-28T13:13:32.547Z"
   },
   {
    "duration": 10,
    "start_time": "2022-10-28T13:13:32.556Z"
   },
   {
    "duration": 42,
    "start_time": "2022-10-28T13:13:32.568Z"
   },
   {
    "duration": 4,
    "start_time": "2022-10-28T13:13:32.612Z"
   },
   {
    "duration": 13,
    "start_time": "2022-10-28T13:13:32.618Z"
   },
   {
    "duration": 15,
    "start_time": "2022-10-28T13:13:32.633Z"
   },
   {
    "duration": 20,
    "start_time": "2022-10-28T13:13:32.650Z"
   },
   {
    "duration": 26,
    "start_time": "2022-10-28T13:13:32.672Z"
   },
   {
    "duration": 11,
    "start_time": "2022-10-28T13:13:32.700Z"
   },
   {
    "duration": 25680,
    "start_time": "2022-10-28T13:13:32.712Z"
   },
   {
    "duration": 4,
    "start_time": "2022-10-28T13:13:58.394Z"
   },
   {
    "duration": 28,
    "start_time": "2022-10-28T13:13:58.399Z"
   },
   {
    "duration": 6,
    "start_time": "2022-10-28T13:13:58.429Z"
   },
   {
    "duration": 54982,
    "start_time": "2022-10-28T13:13:58.436Z"
   },
   {
    "duration": 5,
    "start_time": "2022-10-28T13:14:53.420Z"
   },
   {
    "duration": 32,
    "start_time": "2022-10-28T13:14:53.428Z"
   },
   {
    "duration": 7,
    "start_time": "2022-10-28T13:14:53.462Z"
   },
   {
    "duration": 15128,
    "start_time": "2022-10-28T13:14:53.471Z"
   },
   {
    "duration": 1140,
    "start_time": "2022-10-28T13:15:08.600Z"
   },
   {
    "duration": 54370,
    "start_time": "2022-10-28T13:16:50.204Z"
   },
   {
    "duration": 15338,
    "start_time": "2022-10-28T13:19:56.989Z"
   },
   {
    "duration": 15779,
    "start_time": "2022-10-28T13:20:43.837Z"
   },
   {
    "duration": 1375,
    "start_time": "2022-10-28T13:23:05.107Z"
   },
   {
    "duration": 848,
    "start_time": "2022-10-30T09:37:15.681Z"
   },
   {
    "duration": 25,
    "start_time": "2022-10-30T09:37:25.644Z"
   }
  ],
  "kernelspec": {
   "display_name": "Python 3 (ipykernel)",
   "language": "python",
   "name": "python3"
  },
  "language_info": {
   "codemirror_mode": {
    "name": "ipython",
    "version": 3
   },
   "file_extension": ".py",
   "mimetype": "text/x-python",
   "name": "python",
   "nbconvert_exporter": "python",
   "pygments_lexer": "ipython3",
   "version": "3.9.12"
  },
  "toc": {
   "base_numbering": 1,
   "nav_menu": {},
   "number_sections": true,
   "sideBar": true,
   "skip_h1_title": true,
   "title_cell": "Содержание",
   "title_sidebar": "Contents",
   "toc_cell": true,
   "toc_position": {},
   "toc_section_display": true,
   "toc_window_display": true
  }
 },
 "nbformat": 4,
 "nbformat_minor": 2
}
